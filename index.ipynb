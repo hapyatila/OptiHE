{
 "cells": [
  {
   "cell_type": "code",
   "execution_count": 3,
   "metadata": {
    "collapsed": false
   },
   "outputs": [
    {
     "name": "stdout",
     "output_type": "stream",
     "text": [
      "Content-type: text/html; charset=utf-8\n",
      "\n",
      "None\n",
      "<!DOCTYPE html>\n",
      "<head>\n",
      "    <title>Mon programme</title>\n",
      "</head>\n",
      "<body>\n",
      "    <form action=\"/index.py\" method=\"post\">\n",
      "        <input type=\"text\" name=\"name\" value=\"Votre nom\" />\n",
      "        <input type=\"submit\" name=\"send\" value=\"Envoyer information au serveur\">\n",
      "    </form> \n",
      "</body>\n",
      "</html>\n",
      "\n"
     ]
    }
   ],
   "source": [
    "#!/usr/bin/python3\n",
    "# -*- coding: utf-8 -*\n",
    "\n",
    "import cgi \n",
    "\n",
    "form = cgi.FieldStorage()\n",
    "print(\"Content-type: text/html; charset=utf-8\\n\")\n",
    "\n",
    "print(form.getvalue(\"name\"))\n",
    "\n",
    "html = \"\"\"<!DOCTYPE html>\n",
    "<head>\n",
    "    <title>Mon programme</title>\n",
    "</head>\n",
    "<body>\n",
    "    <form action=\"/index.py\" method=\"post\">\n",
    "        <input type=\"text\" name=\"name\" value=\"Votre nom\" />\n",
    "        <input type=\"submit\" name=\"send\" value=\"Envoyer information au serveur\">\n",
    "    </form> \n",
    "</body>\n",
    "</html>\n",
    "\"\"\"\n",
    "\n",
    "print(html)"
   ]
  },
  {
   "cell_type": "code",
   "execution_count": null,
   "metadata": {
    "collapsed": true
   },
   "outputs": [],
   "source": []
  }
 ],
 "metadata": {
  "kernelspec": {
   "display_name": "Python [Root]",
   "language": "python",
   "name": "Python [Root]"
  },
  "language_info": {
   "codemirror_mode": {
    "name": "ipython",
    "version": 3
   },
   "file_extension": ".py",
   "mimetype": "text/x-python",
   "name": "python",
   "nbconvert_exporter": "python",
   "pygments_lexer": "ipython3",
   "version": "3.5.2"
  }
 },
 "nbformat": 4,
 "nbformat_minor": 0
}
